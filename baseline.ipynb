{
 "cells": [
  {
   "cell_type": "code",
   "execution_count": 6,
   "metadata": {
    "collapsed": true
   },
   "outputs": [
    {
     "name": "stdout",
     "output_type": "stream",
     "text": [
      "Collecting tables\n",
      "  Downloading tables-3.9.2-cp39-cp39-win_amd64.whl (4.4 MB)\n",
      "     ---------------------------------------- 4.4/4.4 MB 6.7 MB/s eta 0:00:00\n",
      "Collecting numexpr>=2.6.2\n",
      "  Downloading numexpr-2.10.1-cp39-cp39-win_amd64.whl (141 kB)\n",
      "     -------------------------------------- 141.2/141.2 kB 8.7 MB/s eta 0:00:00\n",
      "Requirement already satisfied: packaging in c:\\users\\visus\\documents\\development\\isic_2024-skin_cancer_detection_with_3d-tbp\\venv\\lib\\site-packages (from tables) (24.1)\n",
      "Collecting blosc2>=2.3.0\n",
      "  Downloading blosc2-2.5.1-cp39-cp39-win_amd64.whl (2.3 MB)\n",
      "     ---------------------------------------- 2.3/2.3 MB 8.3 MB/s eta 0:00:00\n",
      "Requirement already satisfied: numpy>=1.19.0 in c:\\users\\visus\\documents\\development\\isic_2024-skin_cancer_detection_with_3d-tbp\\venv\\lib\\site-packages (from tables) (2.0.1)\n",
      "Collecting py-cpuinfo\n",
      "  Downloading py_cpuinfo-9.0.0-py3-none-any.whl (22 kB)\n",
      "Collecting ndindex>=1.4\n",
      "  Downloading ndindex-1.8-py3-none-any.whl (91 kB)\n",
      "     ---------------------------------------- 91.2/91.2 kB 5.1 MB/s eta 0:00:00\n",
      "Collecting msgpack\n",
      "  Downloading msgpack-1.0.8-cp39-cp39-win_amd64.whl (75 kB)\n",
      "     ---------------------------------------- 75.1/75.1 kB 4.3 MB/s eta 0:00:00\n",
      "Installing collected packages: py-cpuinfo, numexpr, ndindex, msgpack, blosc2, tables\n",
      "Successfully installed blosc2-2.5.1 msgpack-1.0.8 ndindex-1.8 numexpr-2.10.1 py-cpuinfo-9.0.0 tables-3.9.2\n"
     ]
    },
    {
     "name": "stderr",
     "output_type": "stream",
     "text": [
      "\n",
      "[notice] A new release of pip available: 22.3.1 -> 24.2\n",
      "[notice] To update, run: python.exe -m pip install --upgrade pip\n"
     ]
    }
   ],
   "source": [
    "!pip install tables"
   ]
  },
  {
   "cell_type": "code",
   "execution_count": 4,
   "outputs": [],
   "source": [
    "import pandas as pd\n",
    "import numpy as np"
   ],
   "metadata": {
    "collapsed": false
   }
  },
  {
   "cell_type": "code",
   "execution_count": null,
   "outputs": [],
   "source": [],
   "metadata": {
    "collapsed": false
   }
  }
 ],
 "metadata": {
  "kernelspec": {
   "display_name": "Python 3",
   "language": "python",
   "name": "python3"
  },
  "language_info": {
   "codemirror_mode": {
    "name": "ipython",
    "version": 2
   },
   "file_extension": ".py",
   "mimetype": "text/x-python",
   "name": "python",
   "nbconvert_exporter": "python",
   "pygments_lexer": "ipython2",
   "version": "2.7.6"
  }
 },
 "nbformat": 4,
 "nbformat_minor": 0
}
